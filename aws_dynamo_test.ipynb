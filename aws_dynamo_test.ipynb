{
 "cells": [
  {
   "cell_type": "markdown",
   "id": "559ff582",
   "metadata": {},
   "source": [
    "## Import Libs"
   ]
  },
  {
   "cell_type": "code",
   "execution_count": 260,
   "id": "19a2818e",
   "metadata": {},
   "outputs": [],
   "source": [
    "import json\n",
    "import pandas as pd\n",
    "import boto3\n",
    "from boto3.dynamodb.conditions import Key\n",
    "from time import gmtime, strftime\n",
    "from creds import *\n",
    "import random\n",
    "from datetime import date"
   ]
  },
  {
   "cell_type": "code",
   "execution_count": 262,
   "id": "a79c2393",
   "metadata": {},
   "outputs": [],
   "source": [
    "#client.delete_table(TableName = \"clin_test2\")"
   ]
  },
  {
   "cell_type": "markdown",
   "id": "9eac219e",
   "metadata": {},
   "source": [
    "## Wrap Dynamo Querying function"
   ]
  },
  {
   "cell_type": "code",
   "execution_count": 263,
   "id": "a2e6ebcf",
   "metadata": {},
   "outputs": [],
   "source": [
    "def query_dynamo(domain,studyid,**kwargs):\n",
    "    list_cols = kwargs.get('list_cols', None)\n",
    "    global df2\n",
    "    if studyid == \"all\":\n",
    "        response = table.query(\n",
    "        KeyConditionExpression=Key('domain').eq(str(domain))\n",
    "        )\n",
    "\n",
    "        item = response['Items']\n",
    "        df2 = pd.json_normalize(item,sep='')\n",
    "        df2 = df2.drop(['domain'], axis=1)\n",
    "    else:\n",
    "        response = table.query(\n",
    "        KeyConditionExpression=Key('domain').eq(str(domain)) & Key('studyid_subjid').begins_with(str(studyid))\n",
    "        )\n",
    "\n",
    "        item = response['Items']\n",
    "        df = pd.DataFrame.from_dict(item)\n",
    "        #print(df[df.index.duplicated()])\n",
    "        df = df.apply(pd.Series.explode)\n",
    "        df2 = df.drop(['studyid_subjid', 'domain'], axis=1)\n",
    "    return df2"
   ]
  },
  {
   "cell_type": "markdown",
   "id": "4a25170d",
   "metadata": {},
   "source": [
    "## Connect to AWS"
   ]
  },
  {
   "cell_type": "code",
   "execution_count": 235,
   "id": "99686799",
   "metadata": {},
   "outputs": [],
   "source": [
    "dynamodb = boto3.resource(\n",
    "    'dynamodb',\n",
    "    aws_access_key_id=aws_access_key,\n",
    "    aws_secret_access_key=aws_secret_key,\n",
    "    region_name = 'us-west-2'\n",
    "    )\n",
    "\n",
    "client = boto3.client(\n",
    "    'dynamodb',\n",
    "    aws_access_key_id=aws_access_key,\n",
    "    aws_secret_access_key=aws_secret_key,\n",
    "    region_name = 'us-west-2'\n",
    "    )"
   ]
  },
  {
   "cell_type": "markdown",
   "id": "e64a7d1c",
   "metadata": {},
   "source": [
    "## Create Table"
   ]
  },
  {
   "cell_type": "code",
   "execution_count": 264,
   "id": "1708392d",
   "metadata": {},
   "outputs": [
    {
     "name": "stdout",
     "output_type": "stream",
     "text": [
      "Table created successfully\n"
     ]
    }
   ],
   "source": [
    "try:     \n",
    "    table = dynamodb.create_table(\n",
    "        TableName='clin_test2',\n",
    "        KeySchema=[\n",
    "            {\n",
    "                'AttributeName': 'domain',\n",
    "                'KeyType': 'HASH'\n",
    "            },\n",
    "            {\n",
    "                'AttributeName': 'studyid_subjid',\n",
    "                'KeyType': 'RANGE'\n",
    "            },\n",
    "        ],\n",
    "        AttributeDefinitions=[\n",
    "            {\n",
    "                'AttributeName': 'domain',\n",
    "                'AttributeType': 'S'\n",
    "            },\n",
    "            {\n",
    "                'AttributeName': 'studyid_subjid',\n",
    "                'AttributeType': 'S'\n",
    "            },\n",
    "        ],\n",
    "        ProvisionedThroughput={\n",
    "            'ReadCapacityUnits': 5,\n",
    "            'WriteCapacityUnits': 5\n",
    "        }\n",
    "    )\n",
    "    print(\"Table created successfully\")\n",
    "except Exception as e:\n",
    "    print(\"Table not created\")\n",
    "    print(e)"
   ]
  },
  {
   "cell_type": "markdown",
   "id": "52ea2b52",
   "metadata": {},
   "source": [
    "## Insert Simulated ADLB data"
   ]
  },
  {
   "cell_type": "code",
   "execution_count": 265,
   "id": "2481f98a",
   "metadata": {},
   "outputs": [],
   "source": [
    "table = dynamodb.Table('clin_test2')\n",
    "TRT01A = [\"Pembrolizumab\",\"Placebo\"]\n",
    "VISITS = [\"VISIT 1\",\"VISIT 2\",\"VISIT 3\"]\n",
    "ABLFL = [\"Y\",\"N\"]\n",
    "with table.batch_writer() as batch:\n",
    "    for i in range(8000,8010):\n",
    "        batch.put_item(\n",
    "            Item={\n",
    "                'domain': 'adlb',\n",
    "                'studyid_subjid': 'study1'+'_'+str(i),\n",
    "                'USUBJID': str(i),\n",
    "                'ABLFL': random.choices(ABLFL,k=1)[0],\n",
    "                'AVISIT': random.choices(VISITS,k=1)[0],\n",
    "                'TRT01A': random.choices(TRT01A,k=1)[0],\n",
    "                'PARAMLBL': [\"Alkaline Phosphatase (IU/L)\",\"Aspartate Aminotransferase (IU/L)\",\"Alanine Aminotransferase (IU/L)\"],\n",
    "                'AVAL': [str(random.randrange(0,100)),str(random.randrange(0,100)),str(random.randrange(0,100))]\n",
    "            }\n",
    "        )"
   ]
  },
  {
   "cell_type": "markdown",
   "id": "56b702f7",
   "metadata": {},
   "source": [
    "## Observe the data and specify JSON columns to flatten"
   ]
  },
  {
   "cell_type": "code",
   "execution_count": 266,
   "id": "ec5eca1e",
   "metadata": {},
   "outputs": [
    {
     "data": {
      "text/html": [
       "<div>\n",
       "<style scoped>\n",
       "    .dataframe tbody tr th:only-of-type {\n",
       "        vertical-align: middle;\n",
       "    }\n",
       "\n",
       "    .dataframe tbody tr th {\n",
       "        vertical-align: top;\n",
       "    }\n",
       "\n",
       "    .dataframe thead th {\n",
       "        text-align: right;\n",
       "    }\n",
       "</style>\n",
       "<table border=\"1\" class=\"dataframe\">\n",
       "  <thead>\n",
       "    <tr style=\"text-align: right;\">\n",
       "      <th></th>\n",
       "      <th>AVISIT</th>\n",
       "      <th>PARAMLBL</th>\n",
       "      <th>ABLFL</th>\n",
       "      <th>USUBJID</th>\n",
       "      <th>TRT01A</th>\n",
       "      <th>AVAL</th>\n",
       "    </tr>\n",
       "  </thead>\n",
       "  <tbody>\n",
       "    <tr>\n",
       "      <th>0</th>\n",
       "      <td>VISIT 3</td>\n",
       "      <td>Alkaline Phosphatase (IU/L)</td>\n",
       "      <td>Y</td>\n",
       "      <td>8000</td>\n",
       "      <td>Pembrolizumab</td>\n",
       "      <td>7</td>\n",
       "    </tr>\n",
       "    <tr>\n",
       "      <th>0</th>\n",
       "      <td>VISIT 3</td>\n",
       "      <td>Aspartate Aminotransferase (IU/L)</td>\n",
       "      <td>Y</td>\n",
       "      <td>8000</td>\n",
       "      <td>Pembrolizumab</td>\n",
       "      <td>12</td>\n",
       "    </tr>\n",
       "    <tr>\n",
       "      <th>0</th>\n",
       "      <td>VISIT 3</td>\n",
       "      <td>Alanine Aminotransferase (IU/L)</td>\n",
       "      <td>Y</td>\n",
       "      <td>8000</td>\n",
       "      <td>Pembrolizumab</td>\n",
       "      <td>76</td>\n",
       "    </tr>\n",
       "  </tbody>\n",
       "</table>\n",
       "</div>"
      ],
      "text/plain": [
       "    AVISIT                           PARAMLBL ABLFL USUBJID         TRT01A  \\\n",
       "0  VISIT 3        Alkaline Phosphatase (IU/L)     Y    8000  Pembrolizumab   \n",
       "0  VISIT 3  Aspartate Aminotransferase (IU/L)     Y    8000  Pembrolizumab   \n",
       "0  VISIT 3    Alanine Aminotransferase (IU/L)     Y    8000  Pembrolizumab   \n",
       "\n",
       "  AVAL  \n",
       "0    7  \n",
       "0   12  \n",
       "0   76  "
      ]
     },
     "execution_count": 266,
     "metadata": {},
     "output_type": "execute_result"
    }
   ],
   "source": [
    "query_dynamo(\"adlb\",\"study1\",list_cols = {'PARAMLBL','AVAL'}).head(3)\n"
   ]
  },
  {
   "cell_type": "markdown",
   "id": "da49e411",
   "metadata": {},
   "source": [
    "## Insert another Lab test for the first 5 subjects"
   ]
  },
  {
   "cell_type": "code",
   "execution_count": 267,
   "id": "858e97bb",
   "metadata": {},
   "outputs": [],
   "source": [
    "for i in range(8000,8005):\n",
    "    resp = table.update_item(\n",
    "        Key={\"domain\": \"adlb\", \"studyid_subjid\": 'study1'+'_'+str(i)},\n",
    "        UpdateExpression=\"SET PARAMLBL = list_append(:val,PARAMLBL)\",\n",
    "        ExpressionAttributeValues={\n",
    "        ':val': [\"Gamma-Glutamyl Transferase (IU/L)\"]\n",
    "                },\n",
    "        ReturnValues=\"UPDATED_NEW\"\n",
    "    )\n",
    "\n",
    "    resp = table.update_item(\n",
    "        Key={\"domain\": \"adlb\", \"studyid_subjid\": 'study1'+'_'+str(i)},\n",
    "        UpdateExpression=\"SET AVAL = list_append(:val,AVAL)\",\n",
    "        ExpressionAttributeValues={\n",
    "        ':val': [str(random.randrange(0,100))]\n",
    "                },\n",
    "        ReturnValues=\"UPDATED_NEW\"\n",
    "    )"
   ]
  },
  {
   "cell_type": "markdown",
   "id": "fb4c0e1b",
   "metadata": {},
   "source": [
    "## Observe the changes"
   ]
  },
  {
   "cell_type": "code",
   "execution_count": 268,
   "id": "d67cba4a",
   "metadata": {},
   "outputs": [
    {
     "data": {
      "text/html": [
       "<div>\n",
       "<style scoped>\n",
       "    .dataframe tbody tr th:only-of-type {\n",
       "        vertical-align: middle;\n",
       "    }\n",
       "\n",
       "    .dataframe tbody tr th {\n",
       "        vertical-align: top;\n",
       "    }\n",
       "\n",
       "    .dataframe thead th {\n",
       "        text-align: right;\n",
       "    }\n",
       "</style>\n",
       "<table border=\"1\" class=\"dataframe\">\n",
       "  <thead>\n",
       "    <tr style=\"text-align: right;\">\n",
       "      <th></th>\n",
       "      <th>AVISIT</th>\n",
       "      <th>ABLFL</th>\n",
       "      <th>PARAMLBL</th>\n",
       "      <th>USUBJID</th>\n",
       "      <th>TRT01A</th>\n",
       "      <th>AVAL</th>\n",
       "    </tr>\n",
       "  </thead>\n",
       "  <tbody>\n",
       "    <tr>\n",
       "      <th>0</th>\n",
       "      <td>VISIT 3</td>\n",
       "      <td>Y</td>\n",
       "      <td>Gamma-Glutamyl Transferase (IU/L)</td>\n",
       "      <td>8000</td>\n",
       "      <td>Pembrolizumab</td>\n",
       "      <td>81</td>\n",
       "    </tr>\n",
       "    <tr>\n",
       "      <th>0</th>\n",
       "      <td>VISIT 3</td>\n",
       "      <td>Y</td>\n",
       "      <td>Alkaline Phosphatase (IU/L)</td>\n",
       "      <td>8000</td>\n",
       "      <td>Pembrolizumab</td>\n",
       "      <td>7</td>\n",
       "    </tr>\n",
       "    <tr>\n",
       "      <th>0</th>\n",
       "      <td>VISIT 3</td>\n",
       "      <td>Y</td>\n",
       "      <td>Aspartate Aminotransferase (IU/L)</td>\n",
       "      <td>8000</td>\n",
       "      <td>Pembrolizumab</td>\n",
       "      <td>12</td>\n",
       "    </tr>\n",
       "    <tr>\n",
       "      <th>0</th>\n",
       "      <td>VISIT 3</td>\n",
       "      <td>Y</td>\n",
       "      <td>Alanine Aminotransferase (IU/L)</td>\n",
       "      <td>8000</td>\n",
       "      <td>Pembrolizumab</td>\n",
       "      <td>76</td>\n",
       "    </tr>\n",
       "  </tbody>\n",
       "</table>\n",
       "</div>"
      ],
      "text/plain": [
       "    AVISIT ABLFL                           PARAMLBL USUBJID         TRT01A  \\\n",
       "0  VISIT 3     Y  Gamma-Glutamyl Transferase (IU/L)    8000  Pembrolizumab   \n",
       "0  VISIT 3     Y        Alkaline Phosphatase (IU/L)    8000  Pembrolizumab   \n",
       "0  VISIT 3     Y  Aspartate Aminotransferase (IU/L)    8000  Pembrolizumab   \n",
       "0  VISIT 3     Y    Alanine Aminotransferase (IU/L)    8000  Pembrolizumab   \n",
       "\n",
       "  AVAL  \n",
       "0   81  \n",
       "0    7  \n",
       "0   12  \n",
       "0   76  "
      ]
     },
     "execution_count": 268,
     "metadata": {},
     "output_type": "execute_result"
    }
   ],
   "source": [
    "query_dynamo(\"adlb\",\"study1\",list_cols = {'PARAMLBL','AVAL'}).head(4)\n"
   ]
  },
  {
   "cell_type": "markdown",
   "id": "65d0c7f2",
   "metadata": {},
   "source": [
    "## Perform analysis"
   ]
  },
  {
   "cell_type": "code",
   "execution_count": 269,
   "id": "d83c91b0",
   "metadata": {},
   "outputs": [
    {
     "data": {
      "text/plain": [
       "<AxesSubplot:title={'center':'Alanine Aminotransferase (IU/L)'}, xlabel='TRT01A', ylabel='AVAL'>"
      ]
     },
     "execution_count": 269,
     "metadata": {},
     "output_type": "execute_result"
    },
    {
     "data": {
      "image/png": "[encoded data removed]",
      "text/plain": [
       "<Figure size 842.4x595.44 with 1 Axes>"
      ]
     },
     "metadata": {},
     "output_type": "display_data"
    }
   ],
   "source": [
    "import seaborn as sns\n",
    "sns.set(rc={'figure.figsize':(11.7,8.27)})\n",
    "data = query_dynamo(\"adlb\",\"study1\",list_cols = {'PARAMLBL','AVAL'})\n",
    "data['AVAL'] = data['AVAL'].astype('float')\n",
    "data = data[data[\"PARAMLBL\"] == \"Alanine Aminotransferase (IU/L)\"]\n",
    "sns.boxplot(data=data, \n",
    "            x=\"TRT01A\", \n",
    "            y=\"AVAL\",\n",
    "            orient=\"v\",\n",
    "            palette = 'viridis').set(title=data['PARAMLBL'][0])\n",
    "sns.stripplot(x='TRT01A', \n",
    "              y='AVAL', \n",
    "              hue='USUBJID',\n",
    "              jitter=True,\n",
    "              dodge=True, \n",
    "              marker='o', \n",
    "              palette=\"Set2\",\n",
    "              alpha=1,\n",
    "              data=data,\n",
    "              size=10)"
   ]
  },
  {
   "cell_type": "code",
   "execution_count": null,
   "id": "55288fe7",
   "metadata": {},
   "outputs": [],
   "source": []
  }
 ],
 "metadata": {
  "kernelspec": {
   "display_name": "Python 3 (ipykernel)",
   "language": "python",
   "name": "python3"
  },
  "language_info": {
   "codemirror_mode": {
    "name": "ipython",
    "version": 3
   },
   "file_extension": ".py",
   "mimetype": "text/x-python",
   "name": "python",
   "nbconvert_exporter": "python",
   "pygments_lexer": "ipython3",
   "version": "3.8.12"
  }
 },
 "nbformat": 4,
 "nbformat_minor": 5
}
